{
 "cells": [
  {
   "cell_type": "markdown",
   "metadata": {},
   "source": [
    "# MNIST"
   ]
  },
  {
   "cell_type": "code",
   "execution_count": 3,
   "metadata": {},
   "outputs": [],
   "source": [
    "import csv\n",
    "import numpy as np\n",
    "\n",
    "def load_data(filepath, delimiter=\",\", dtype=float):\n",
    "    \"\"\"Load a numerical numpy array from a file.\"\"\"\n",
    "\n",
    "    print(f\"Loading {filepath}...\")\n",
    "    with open(filepath, \"r\") as f:\n",
    "        data_iterator = csv.reader(f, delimiter=delimiter)\n",
    "        data_list = list(data_iterator)\n",
    "    data = np.asarray(data_list, dtype=dtype)\n",
    "    y = data[:, 0].reshape(-1, 1)\n",
    "    x = data[:, 1:]\n",
    "    print(\"Done.\")\n",
    "    return x, y"
   ]
  },
  {
   "cell_type": "markdown",
   "metadata": {},
   "source": [
    "## 1. Dataset load"
   ]
  },
  {
   "cell_type": "markdown",
   "metadata": {},
   "source": [
    "### 1-1. Using CSV dataset"
   ]
  },
  {
   "cell_type": "code",
   "execution_count": 95,
   "metadata": {},
   "outputs": [
    {
     "name": "stdout",
     "output_type": "stream",
     "text": [
      "Loading ./datasets/MNIST/data_train.csv...\n",
      "Done.\n",
      "Loading ./datasets/MNIST/data_test.csv...\n",
      "Done.\n"
     ]
    }
   ],
   "source": [
    "TRAIN_FILE = \"./datasets/MNIST/data_train.csv\"\n",
    "TEST_FILE =  \"./datasets/MNIST/data_test.csv\"\n",
    "\n",
    "# train_data = load_data(TRAIN_FILE, ',', int)\n",
    "# test_data = load_data(TEST_FILE, ',', int)\n",
    "\n",
    "x_train, y_train = load_data(TRAIN_FILE, ',', int)\n",
    "x_test, y_test = load_data(TEST_FILE, ',', int)"
   ]
  },
  {
   "cell_type": "code",
   "execution_count": 6,
   "metadata": {},
   "outputs": [
    {
     "name": "stdout",
     "output_type": "stream",
     "text": [
      "x train shape: (60000, 784) float64\n",
      "y train shape: (60000, 1) uint8\n",
      "x test shape: (10000, 784) float64\n",
      "y test shape: (10000, 1) uint8\n"
     ]
    }
   ],
   "source": [
    "x_train, x_test = x_train / 255.0, x_test / 255.0\n",
    "\n",
    "print(\"x train shape:\", x_train.shape, x_train.dtype)\n",
    "print(\"y train shape:\", y_train.shape, y_train.dtype)\n",
    "print(\"x test shape:\", x_test.shape, x_test.dtype)\n",
    "print(\"y test shape:\", y_test.shape, y_test.dtype)"
   ]
  },
  {
   "cell_type": "code",
   "execution_count": 5,
   "metadata": {},
   "outputs": [
    {
     "name": "stdout",
     "output_type": "stream",
     "text": [
      "(60000, 785)\n",
      "(10000, 785)\n"
     ]
    }
   ],
   "source": [
    "train_data = np.hstack((y_train, x_train))\n",
    "print(train_data.shape)\n",
    "test_data = np.hstack((y_test, x_test))\n",
    "print(test_data.shape)"
   ]
  },
  {
   "cell_type": "markdown",
   "metadata": {},
   "source": [
    "### 1-2. Using keras"
   ]
  },
  {
   "cell_type": "code",
   "execution_count": 4,
   "metadata": {},
   "outputs": [
    {
     "name": "stderr",
     "output_type": "stream",
     "text": [
      "2024-05-28 21:59:26.987048: I tensorflow/core/platform/cpu_feature_guard.cc:182] This TensorFlow binary is optimized to use available CPU instructions in performance-critical operations.\n",
      "To enable the following instructions: SSE4.1 SSE4.2 AVX AVX2 AVX_VNNI FMA, in other operations, rebuild TensorFlow with the appropriate compiler flags.\n"
     ]
    },
    {
     "name": "stdout",
     "output_type": "stream",
     "text": [
      "x train shape: (60000, 784) float64\n",
      "y train shape: (60000, 1) uint8\n",
      "x test shape: (10000, 784) float64\n",
      "y test shape: (10000, 1) uint8\n"
     ]
    }
   ],
   "source": [
    "import tensorflow as tf\n",
    "\n",
    "mnist = tf.keras.datasets.mnist\n",
    "(x_train, y_train),(x_test,y_test) = mnist.load_data()\n",
    "x_train, x_test = x_train / 255.0, x_test / 255.0\n",
    "\n",
    "x_train = x_train.reshape(x_train.shape[0], -1)\n",
    "y_train = y_train.reshape(y_train.shape[0], -1)\n",
    "x_test = x_test.reshape(x_test.shape[0], -1)\n",
    "y_test = y_test.reshape(y_test.shape[0], -1)\n",
    "\n",
    "print(\"x train shape:\", x_train.shape, x_train.dtype)\n",
    "print(\"y train shape:\", y_train.shape, y_train.dtype)\n",
    "print(\"x test shape:\", x_test.shape, x_test.dtype)\n",
    "print(\"y test shape:\", y_test.shape, y_test.dtype)"
   ]
  },
  {
   "cell_type": "code",
   "execution_count": 4,
   "metadata": {},
   "outputs": [
    {
     "name": "stdout",
     "output_type": "stream",
     "text": [
      "(60000, 785)\n",
      "(10000, 785)\n"
     ]
    }
   ],
   "source": [
    "train_data1 = np.hstack((y_train, x_train))\n",
    "print(train_data1.shape)\n",
    "test_data1 = np.hstack((y_test, x_test))\n",
    "print(test_data1.shape)"
   ]
  },
  {
   "cell_type": "code",
   "execution_count": 5,
   "metadata": {},
   "outputs": [
    {
     "name": "stdout",
     "output_type": "stream",
     "text": [
      "True\n",
      "True\n"
     ]
    }
   ],
   "source": [
    "t = train_data1 == train_data\n",
    "print(t.all())\n",
    "\n",
    "t = test_data1 == test_data\n",
    "print(t.all())"
   ]
  },
  {
   "cell_type": "code",
   "execution_count": 6,
   "metadata": {},
   "outputs": [
    {
     "name": "stdout",
     "output_type": "stream",
     "text": [
      "                            \n",
      "            ############    \n",
      "        ################    \n",
      "       ################     \n",
      "       ###########          \n",
      "        ####### ##          \n",
      "         #####              \n",
      "           ####             \n",
      "           ####             \n",
      "            ######          \n",
      "             ######         \n",
      "              ######        \n",
      "               #####        \n",
      "                 ####       \n",
      "              #######       \n",
      "            ########        \n",
      "          #########         \n",
      "        ##########          \n",
      "      ##########            \n",
      "    ##########              \n",
      "    ########                \n"
     ]
    }
   ],
   "source": [
    "data = train_data\n",
    "\n",
    "for row in range(28):\n",
    "    if not sum(data[0, 28 * row: 28 * (row + 1)]):\n",
    "        continue\n",
    "    for col in range(28):\n",
    "        idx = row * 28 + col\n",
    "        print(\"#\" if data[0, 1+idx] else \" \", end=\"\")\n",
    "    print()"
   ]
  },
  {
   "cell_type": "markdown",
   "metadata": {},
   "source": [
    "Import source files"
   ]
  },
  {
   "cell_type": "code",
   "execution_count": 7,
   "metadata": {},
   "outputs": [],
   "source": [
    "from nn.nn1 import NeuralNet, Layer\n",
    "from srcs.activations import LeakyRelu, Sigmoid, Softmax\n",
    "from srcs.losses import MSELoss, CrossEntropyLoss, BCELoss\n",
    "import matplotlib.pyplot as plt"
   ]
  },
  {
   "cell_type": "code",
   "execution_count": 2,
   "metadata": {},
   "outputs": [],
   "source": [
    "import nn.nn_generic as nn"
   ]
  },
  {
   "cell_type": "code",
   "execution_count": 10,
   "metadata": {},
   "outputs": [],
   "source": [
    "def to_col(x):\n",
    "    return x.reshape((x.size, 1))\n",
    "\n",
    "def test(net, test_data):\n",
    "    correct = 0\n",
    "    for i, test_row in enumerate(test_data):\n",
    "\n",
    "        y = test_row[0]\n",
    "        x = to_col(test_row[1:])\n",
    "        out = net.forward(x)\n",
    "        y_pred = np.argmax(out)\n",
    "        # if not i % 3000:\n",
    "        #     print('pred:', y_pred, 'true:', y)\n",
    "        if y == y_pred:\n",
    "            correct += 1\n",
    "\n",
    "    return correct/test_data.shape[0]"
   ]
  },
  {
   "cell_type": "markdown",
   "metadata": {},
   "source": [
    "## 2. Train the network"
   ]
  },
  {
   "cell_type": "code",
   "execution_count": 11,
   "metadata": {},
   "outputs": [
    {
     "name": "stdout",
     "output_type": "stream",
     "text": [
      "input shape: 784\n",
      "output shape: 10\n"
     ]
    }
   ],
   "source": [
    "input_shape = x_train.shape[1]\n",
    "output_shape = len(np.unique(y_train))\n",
    "\n",
    "print(\"input shape:\", input_shape)\n",
    "print(\"output shape:\", output_shape)"
   ]
  },
  {
   "cell_type": "markdown",
   "metadata": {},
   "source": [
    "### 2-1. LeakyRelu"
   ]
  },
  {
   "cell_type": "code",
   "execution_count": 12,
   "metadata": {},
   "outputs": [],
   "source": [
    "def train(net, train_data, epochs=10):\n",
    "    x_train = train_data[:30000, 1:].T\n",
    "    y_train = train_data[:30000, 0:1].T\n",
    "\n",
    "    # print(train_data.shape)\n",
    "    print(\"x_train.shape\", x_train.shape)\n",
    "    print(\"y_train.shape\", y_train.shape)\n",
    "    loss = net._loss_function\n",
    "    train_loss = []\n",
    "\n",
    "    for epoch in range(epochs):\n",
    "        net.fit(x_train, y_train)\n",
    "        # if epoch % 10 == 0:\n",
    "        print(epoch)\n",
    "        train_loss.append(loss.loss(net.forward(x_train), y_train))\n",
    "        # y_pred = net.forward(x_train)#.reshape(1, -1)\n",
    "        # print(y_pred, y_pred.shape)\n",
    "        # print(y_pred.shape, y_train.flatten().shape)\n",
    "        # print(y_train, y_train.shape)\n",
    "        # train_loss.append(loss.loss(y_pred, y_train))\n",
    "\n",
    "    '''\n",
    "    for i, train_row in enumerate(train_data):\n",
    "        # if not i%1000:\n",
    "        #     print(i)\n",
    "        x = to_col(train_row[1:])\n",
    "        y = np.array(train_row[0], ndmin=2)\n",
    "        # if not i%10000:\n",
    "        #     print('y:', y)\n",
    "        # print(y, y.shape)\n",
    "        net.train(x, y)\n",
    "        if i % 10 == 0:\n",
    "            train_loss.append(loss(net.forward(x), y))\n",
    "    '''\n",
    "\n",
    "    plt.plot(train_loss)\n",
    "    plt.show()\n",
    "\n",
    "    return train_loss"
   ]
  },
  {
   "cell_type": "markdown",
   "metadata": {},
   "source": [
    "#### 2-1-1. LeakyRelu + MSELoss"
   ]
  },
  {
   "cell_type": "code",
   "execution_count": null,
   "metadata": {},
   "outputs": [],
   "source": [
    "layers = [\n",
    "    Layer(input_shape, 16, LeakyRelu()),\n",
    "    Layer(16, 16, LeakyRelu()),\n",
    "    Layer(16, output_shape, LeakyRelu()),\n",
    "]\n",
    "net = NeuralNet(layers, MSELoss(), 0.01)\n",
    "\n",
    "train(net, train_data)\n",
    "\n",
    "accuracy = test(net, test_data)\n",
    "print(f\"Accuracy is {100*accuracy:.2f}%\")"
   ]
  },
  {
   "cell_type": "markdown",
   "metadata": {},
   "source": [
    "#### 2-1-2. LeakyRelu + BCELoss"
   ]
  },
  {
   "cell_type": "code",
   "execution_count": 31,
   "metadata": {},
   "outputs": [
    {
     "name": "stdout",
     "output_type": "stream",
     "text": [
      "from, to: 784 16\n",
      "from, to: 16 16\n",
      "x_train.shape (784, 30000)\n",
      "y_train.shape (1, 30000)\n",
      "0\n",
      "1\n",
      "2\n",
      "3\n",
      "4\n",
      "5\n",
      "6\n",
      "7\n",
      "8\n",
      "9\n"
     ]
    },
    {
     "data": {
      "image/png": "[encoded data removed]",
      "text/plain": [
       "<Figure size 640x480 with 1 Axes>"
      ]
     },
     "metadata": {},
     "output_type": "display_data"
    },
    {
     "name": "stdout",
     "output_type": "stream",
     "text": [
      "Accuracy is 10.28%\n"
     ]
    }
   ],
   "source": [
    "# Use BCELoss\n",
    "layers = [\n",
    "    Layer(input_shape, 16, LeakyRelu()),\n",
    "    Layer(16, 16, LeakyRelu()),\n",
    "    Layer(16, output_shape, LeakyRelu()),\n",
    "]\n",
    "net = NeuralNet(layers, BCELoss(), 0.01)\n",
    "\n",
    "train_loss = train(net, train_data)\n",
    "\n",
    "accuracy = test(net, test_data)\n",
    "print(f\"Accuracy is {100*accuracy:.2f}%\")"
   ]
  },
  {
   "cell_type": "code",
   "execution_count": 33,
   "metadata": {},
   "outputs": [
    {
     "data": {
      "text/plain": [
       "[39.751436134086454,\n",
       " 24.303120383714138,\n",
       " 22.25802131250946,\n",
       " 20.993333721436105,\n",
       " 19.993613572264117,\n",
       " 5.377074303060345,\n",
       " 4.164613850560203,\n",
       " 3.2395748845850108,\n",
       " 2.429895463456245,\n",
       " 1.6853877870752105]"
      ]
     },
     "execution_count": 33,
     "metadata": {},
     "output_type": "execute_result"
    }
   ],
   "source": [
    "y_pred = 0.2\n",
    "y = 0\n",
    "eps=1e-15\n",
    "\n",
    "y_pred = np.clip(y_pred, eps, 1 - eps)\n",
    "loss = - np.mean(y * np.log(y_pred) + (1 - y) * np.log(1 - y_pred))\n",
    "loss\n",
    "train_loss"
   ]
  },
  {
   "cell_type": "code",
   "execution_count": 47,
   "metadata": {},
   "outputs": [],
   "source": [
    "\n",
    "class CrossEntropyLoss():\n",
    "    def loss(self, y_pred, y):\n",
    "        # predicted should be a probability distribution (output of softmax)\n",
    "        return -np.mean(y * np.log(y_pred))\n",
    "\n",
    "    def dloss(self, y_pred, y):\n",
    "        # Gradient of the loss with respect to the predicted values\n",
    "        return y_pred - y "
   ]
  },
  {
   "cell_type": "markdown",
   "metadata": {},
   "source": [
    "#### 2-1-3. LeakyRelu + CrossEntropyLoss"
   ]
  },
  {
   "cell_type": "code",
   "execution_count": 48,
   "metadata": {},
   "outputs": [
    {
     "name": "stdout",
     "output_type": "stream",
     "text": [
      "from, to: 784 16\n",
      "from, to: 16 16\n",
      "x_train.shape (784, 30000)\n",
      "y_train.shape (1, 30000)\n",
      "0\n"
     ]
    },
    {
     "name": "stderr",
     "output_type": "stream",
     "text": [
      "/tmp/ipykernel_131101/3296391042.py:4: RuntimeWarning: invalid value encountered in log\n",
      "  return -np.mean(y * np.log(y_pred))\n"
     ]
    },
    {
     "name": "stdout",
     "output_type": "stream",
     "text": [
      "1\n",
      "2\n",
      "3\n",
      "4\n",
      "5\n",
      "6\n",
      "7\n",
      "8\n",
      "9\n"
     ]
    },
    {
     "data": {
      "image/png": "[encoded data removed]",
      "text/plain": [
       "<Figure size 640x480 with 1 Axes>"
      ]
     },
     "metadata": {},
     "output_type": "display_data"
    },
    {
     "name": "stdout",
     "output_type": "stream",
     "text": [
      "Accuracy is 8.92%\n"
     ]
    }
   ],
   "source": [
    "layers = [\n",
    "    Layer(input_shape, 16, LeakyRelu()),\n",
    "    Layer(16, 16, LeakyRelu()),\n",
    "    Layer(16, output_shape, LeakyRelu()),\n",
    "]\n",
    "net = NeuralNet(layers, CrossEntropyLoss(), 0.001)\n",
    "\n",
    "train_loss = train(net, train_data)\n",
    "\n",
    "accuracy = test(net, test_data)\n",
    "print(f\"Accuracy is {100*accuracy:.2f}%\")"
   ]
  },
  {
   "cell_type": "code",
   "execution_count": 49,
   "metadata": {},
   "outputs": [
    {
     "data": {
      "text/plain": [
       "[nan, nan, nan, nan, nan, nan, nan, nan, nan, nan]"
      ]
     },
     "execution_count": 49,
     "metadata": {},
     "output_type": "execute_result"
    }
   ],
   "source": [
    "train_loss"
   ]
  },
  {
   "cell_type": "markdown",
   "metadata": {},
   "source": [
    "### 2-2. Sigmoid"
   ]
  },
  {
   "cell_type": "code",
   "execution_count": 55,
   "metadata": {},
   "outputs": [],
   "source": [
    "def train(net, train_data):\n",
    "    # Precompute all target vectors.\n",
    "    ys = {}\n",
    "    for y in range(10):\n",
    "        yv = np.zeros((10, 1))\n",
    "        yv[t] = 1\n",
    "        ys[t] = yv\n",
    "\n",
    "    for i, train_row in enumerate(train_data):\n",
    "        if not i%10000:\n",
    "            print(i)\n",
    "\n",
    "        y = ys[train_row[0]] # one-hot vector\n",
    "        x = to_col(train_row[1:])\n",
    "        net.train(x, y)"
   ]
  },
  {
   "cell_type": "markdown",
   "metadata": {},
   "source": [
    "#### 2-2-1. Sigmoid + MSELoss"
   ]
  },
  {
   "cell_type": "code",
   "execution_count": 40,
   "metadata": {},
   "outputs": [
    {
     "name": "stdout",
     "output_type": "stream",
     "text": [
      "from, to: 784 16\n",
      "from, to: 16 16\n",
      "x_train.shape (784, 30000)\n",
      "y_train.shape (1, 30000)\n",
      "0\n",
      "1\n",
      "2\n",
      "3\n",
      "4\n",
      "5\n",
      "6\n",
      "7\n",
      "8\n",
      "9\n"
     ]
    },
    {
     "data": {
      "image/png": "[encoded data removed]",
      "text/plain": [
       "<Figure size 640x480 with 1 Axes>"
      ]
     },
     "metadata": {},
     "output_type": "display_data"
    },
    {
     "name": "stdout",
     "output_type": "stream",
     "text": [
      "Accuracy is 10.28%\n"
     ]
    }
   ],
   "source": [
    "# Use a Sigmoid as the final layer\n",
    "layers = [\n",
    "    Layer(input_shape, 16, LeakyRelu()),\n",
    "    Layer(16, 16, LeakyRelu()),\n",
    "    Layer(16, output_shape, Sigmoid()),\n",
    "]\n",
    "net = NeuralNet(layers, MSELoss(), 0.001)\n",
    "\n",
    "train(net, train_data)\n",
    "\n",
    "accuracy = test(net, test_data)\n",
    "print(f\"Accuracy is {100*accuracy:.2f}%\")"
   ]
  },
  {
   "cell_type": "markdown",
   "metadata": {},
   "source": [
    "#### 2-2-2. Sigmoid + BCELoss"
   ]
  },
  {
   "cell_type": "code",
   "execution_count": 41,
   "metadata": {},
   "outputs": [
    {
     "name": "stdout",
     "output_type": "stream",
     "text": [
      "from, to: 784 16\n",
      "from, to: 16 16\n",
      "x_train.shape (784, 30000)\n",
      "y_train.shape (1, 30000)\n",
      "0\n",
      "1\n",
      "2\n",
      "3\n",
      "4\n",
      "5\n",
      "6\n",
      "7\n",
      "8\n",
      "9\n"
     ]
    },
    {
     "data": {
      "image/png": "[encoded data removed]",
      "text/plain": [
       "<Figure size 640x480 with 1 Axes>"
      ]
     },
     "metadata": {},
     "output_type": "display_data"
    },
    {
     "name": "stdout",
     "output_type": "stream",
     "text": [
      "Accuracy is 10.32%\n"
     ]
    }
   ],
   "source": [
    "# sigmoid at the end and the BCELoss\n",
    "layers = [\n",
    "    Layer(input_shape, 16, LeakyRelu()),\n",
    "    Layer(16, 16, LeakyRelu()),\n",
    "    Layer(16, output_shape, Sigmoid()),\n",
    "]\n",
    "net = NeuralNet(layers, BCELoss(), 0.001)\n",
    "\n",
    "train(net, train_data)\n",
    "\n",
    "accuracy = test(net, test_data)\n",
    "print(f\"Accuracy is {100*accuracy:.2f}%\")"
   ]
  },
  {
   "cell_type": "markdown",
   "metadata": {},
   "source": [
    "#### 2-2-3. Sigmoid + CrossEntropyLoss"
   ]
  },
  {
   "cell_type": "code",
   "execution_count": 42,
   "metadata": {},
   "outputs": [
    {
     "name": "stdout",
     "output_type": "stream",
     "text": [
      "from, to: 784 16\n",
      "from, to: 16 16\n",
      "x_train.shape (784, 30000)\n",
      "y_train.shape (1, 30000)\n",
      "0\n",
      "1\n",
      "2\n",
      "3\n",
      "4\n",
      "5\n",
      "6\n",
      "7\n",
      "8\n",
      "9\n"
     ]
    },
    {
     "data": {
      "image/png": "[encoded data removed]",
      "text/plain": [
       "<Figure size 640x480 with 1 Axes>"
      ]
     },
     "metadata": {},
     "output_type": "display_data"
    },
    {
     "name": "stdout",
     "output_type": "stream",
     "text": [
      "Accuracy is 8.92%\n"
     ]
    }
   ],
   "source": [
    "# sigmoid at the end and the CrossEntropyLoss\n",
    "layers = [\n",
    "    Layer(input_shape, 16, LeakyRelu()),\n",
    "    Layer(16, 16, LeakyRelu()),\n",
    "    Layer(16, output_shape, Sigmoid()),\n",
    "]\n",
    "net = NeuralNet(layers, CrossEntropyLoss(), 0.001)\n",
    "\n",
    "train(net, train_data)\n",
    "\n",
    "accuracy = test(net, test_data)\n",
    "print(f\"Accuracy is {100*accuracy:.2f}%\")"
   ]
  },
  {
   "cell_type": "markdown",
   "metadata": {},
   "source": [
    "### 2-3. Softmax"
   ]
  },
  {
   "cell_type": "code",
   "execution_count": 58,
   "metadata": {},
   "outputs": [],
   "source": [
    "def train(net, train_data):\n",
    "    for i, train_row in enumerate(train_data):\n",
    "        t = train_row[0]  # Assume the first element is the class label\n",
    "        x = to_col(train_row[1:])  # Assume the rest are input features\n",
    "        \n",
    "        # Convert the class label to one-hot encoding\n",
    "        t_one_hot = np.zeros((10, 1))  # net.output_size is the number of classes\n",
    "        t_one_hot[t] = 1\n",
    "\n",
    "        # Train the network\n",
    "        # print(\"x in train:\", x.shape)\n",
    "        net.train(x, t_one_hot)"
   ]
  },
  {
   "cell_type": "markdown",
   "metadata": {},
   "source": [
    "#### 2-3-1. Softmax + MSELoss"
   ]
  },
  {
   "cell_type": "code",
   "execution_count": 43,
   "metadata": {},
   "outputs": [
    {
     "name": "stdout",
     "output_type": "stream",
     "text": [
      "from, to: 784 16\n",
      "from, to: 16 16\n",
      "x_train.shape (784, 30000)\n",
      "y_train.shape (1, 30000)\n",
      "0\n",
      "1\n",
      "2\n",
      "3\n",
      "4\n",
      "5\n",
      "6\n",
      "7\n",
      "8\n",
      "9\n"
     ]
    },
    {
     "data": {
      "image/png": "[encoded data removed]",
      "text/plain": [
       "<Figure size 640x480 with 1 Axes>"
      ]
     },
     "metadata": {},
     "output_type": "display_data"
    },
    {
     "name": "stdout",
     "output_type": "stream",
     "text": [
      "Accuracy is 9.80%\n"
     ]
    }
   ],
   "source": [
    "layers = [\n",
    "    Layer(input_shape, 16, LeakyRelu()),\n",
    "    Layer(16, 16, LeakyRelu()),\n",
    "    Layer(16, output_shape, Softmax()),\n",
    "]\n",
    "net = NeuralNet(layers, MSELoss(), 0.001)\n",
    "\n",
    "train(net, train_data)\n",
    "\n",
    "accuracy = test(net, test_data)\n",
    "print(f\"Accuracy is {100*accuracy:.2f}%\")"
   ]
  },
  {
   "cell_type": "markdown",
   "metadata": {},
   "source": [
    "#### 2-3-2. Softmax + BCELoss"
   ]
  },
  {
   "cell_type": "code",
   "execution_count": 44,
   "metadata": {},
   "outputs": [
    {
     "name": "stdout",
     "output_type": "stream",
     "text": [
      "from, to: 784 16\n",
      "from, to: 16 16\n",
      "x_train.shape (784, 30000)\n",
      "y_train.shape (1, 30000)\n",
      "0\n",
      "1\n",
      "2\n",
      "3\n",
      "4\n",
      "5\n",
      "6\n",
      "7\n",
      "8\n",
      "9\n"
     ]
    },
    {
     "data": {
      "image/png": "[encoded data removed]",
      "text/plain": [
       "<Figure size 640x480 with 1 Axes>"
      ]
     },
     "metadata": {},
     "output_type": "display_data"
    },
    {
     "name": "stdout",
     "output_type": "stream",
     "text": [
      "Accuracy is 9.80%\n"
     ]
    }
   ],
   "source": [
    "layers = [\n",
    "    Layer(input_shape, 16, LeakyRelu()),\n",
    "    Layer(16, 16, LeakyRelu()),\n",
    "    Layer(16, output_shape, Softmax()),\n",
    "]\n",
    "net = NeuralNet(layers, BCELoss(), 0.001)\n",
    "\n",
    "train(net, train_data)\n",
    "\n",
    "accuracy = test(net, test_data)\n",
    "print(f\"Accuracy is {100*accuracy:.2f}%\")"
   ]
  },
  {
   "cell_type": "markdown",
   "metadata": {},
   "source": [
    "#### 2-3-3. Softmax + CrossEntropyLoss"
   ]
  },
  {
   "cell_type": "code",
   "execution_count": 59,
   "metadata": {},
   "outputs": [
    {
     "name": "stdout",
     "output_type": "stream",
     "text": [
      "from, to: 784 16\n",
      "from, to: 16 16\n",
      "x_train.shape (784, 30000)\n",
      "y_train.shape (1, 30000)\n",
      "0\n",
      "1\n",
      "2\n",
      "3\n",
      "4\n",
      "5\n",
      "6\n",
      "7\n",
      "8\n",
      "9\n",
      "10\n",
      "11\n",
      "12\n",
      "13\n",
      "14\n",
      "15\n",
      "16\n",
      "17\n",
      "18\n",
      "19\n",
      "20\n",
      "21\n",
      "22\n",
      "23\n",
      "24\n",
      "25\n",
      "26\n",
      "27\n",
      "28\n",
      "29\n"
     ]
    },
    {
     "data": {
      "image/png": "[encoded data removed]",
      "text/plain": [
       "<Figure size 640x480 with 1 Axes>"
      ]
     },
     "metadata": {},
     "output_type": "display_data"
    },
    {
     "name": "stdout",
     "output_type": "stream",
     "text": [
      "Accuracy is 9.80%\n"
     ]
    }
   ],
   "source": [
    "layers = [\n",
    "    Layer(input_shape, 16, LeakyRelu()),\n",
    "    Layer(16, 16, LeakyRelu()),\n",
    "    Layer(16, output_shape, Softmax()),\n",
    "]\n",
    "net = NeuralNet(layers, CrossEntropyLoss(), 0.01)\n",
    "\n",
    "train_loss = train(net, train_data, 30)\n",
    "\n",
    "accuracy = test(net, test_data)\n",
    "print(f\"Accuracy is {100*accuracy:.2f}%\")"
   ]
  },
  {
   "cell_type": "code",
   "execution_count": null,
   "metadata": {},
   "outputs": [],
   "source": [
    "train_loss"
   ]
  },
  {
   "cell_type": "code",
   "execution_count": 16,
   "metadata": {},
   "outputs": [
    {
     "name": "stderr",
     "output_type": "stream",
     "text": [
      "100%|██████████| 10/10 [00:02<00:00,  4.64it/s]\n"
     ]
    },
    {
     "data": {
      "image/png": "[encoded data removed]",
      "text/plain": [
       "<Figure size 1200x400 with 2 Axes>"
      ]
     },
     "metadata": {},
     "output_type": "display_data"
    }
   ],
   "source": [
    "\n",
    "x_train = train_data[:30000, 1:].T\n",
    "y_train = train_data[:30000, 0:1].T\n",
    "parameters, train_loss, train_acc = nn.nn(x_train, y_train, hidden_layers=(16, 16), lr=0.03, epochs=10, plot_graph=True)"
   ]
  },
  {
   "cell_type": "code",
   "execution_count": 17,
   "metadata": {},
   "outputs": [
    {
     "name": "stdout",
     "output_type": "stream",
     "text": [
      "W1 (16, 784)\n",
      "b1 (16, 1)\n",
      "W2 (16, 16)\n",
      "b2 (16, 1)\n",
      "W3 (1, 16)\n",
      "b3 (1, 1)\n"
     ]
    }
   ],
   "source": [
    "for k, v in parameters.items():\n",
    "    print(k, v.shape)"
   ]
  }
 ],
 "metadata": {
  "kernelspec": {
   "display_name": "42AI-cjung-mo",
   "language": "python",
   "name": "python3"
  },
  "language_info": {
   "codemirror_mode": {
    "name": "ipython",
    "version": 3
   },
   "file_extension": ".py",
   "mimetype": "text/x-python",
   "name": "python",
   "nbconvert_exporter": "python",
   "pygments_lexer": "ipython3",
   "version": "3.11.5"
  }
 },
 "nbformat": 4,
 "nbformat_minor": 2
}
