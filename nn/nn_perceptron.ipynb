{
 "cells": [
  {
   "cell_type": "code",
   "execution_count": 9,
   "metadata": {},
   "outputs": [],
   "source": [
    "import numpy as np\n",
    "import matplotlib.pyplot as plt\n",
    "from sklearn.metrics import accuracy_score\n",
    "from tqdm import tqdm "
   ]
  },
  {
   "cell_type": "markdown",
   "metadata": {},
   "source": [
    "# 0. Notation\n",
    "\n",
    "m: number of examples\n",
    "\n",
    "$n_x$: number of variables(features)\n",
    "\n",
    "$n_y$: number of output(classes) \n",
    "\n",
    "x.shape: (m, n_x)\n",
    "\n",
    "y.shape: (m, n_y)\n",
    "\n",
    "W: (n, m)\n",
    "\n",
    "b: (1,)"
   ]
  },
  {
   "cell_type": "markdown",
   "metadata": {},
   "source": [
    "# 1. Forward Propagation"
   ]
  },
  {
   "cell_type": "markdown",
   "metadata": {},
   "source": [
    "## 1-1. Initialize parameters\n",
    "- Weights and biases are parameters that model connections between different layers\n",
    "- Define parameter shape: keep the implementation as close as possible to the mathmatical calculations"
   ]
  },
  {
   "cell_type": "markdown",
   "metadata": {},
   "source": [
    "$$X = \n",
    "\\left[\n",
    "\\begin{matrix} \n",
    "x_{1}^{(1)} & x_{2}^{(1)} & \\dots & x_{n}^{(1)} \\\\\n",
    "x_{1}^{(2)} & x_{2}^{(2)} & \\dots & x_{n}^{(2)} \\\\\n",
    "\\vdots & \\vdots & \\vdots & \\vdots \\\\\n",
    "x_{1}^{(m)} & x_{2}^{(m)} & \\dots & x_{n}^{(m)} \\\\\n",
    "\\end{matrix}\n",
    "\\right] \\in \\R^{m \\times n} $$\n",
    "\n",
    "$$W =\n",
    "\\left[\n",
    "\\begin{matrix}\n",
    "w_1 \\\\\n",
    "w_2 \\\\\n",
    "\\vdots \\\\\n",
    "w_n \\\\\n",
    "\\end{matrix}\n",
    "\\right]\n",
    "\\in \\R^{n \\times 1}$$\n",
    "\n",
    "$$b \\in \\R$$"
   ]
  },
  {
   "cell_type": "code",
   "execution_count": 10,
   "metadata": {},
   "outputs": [],
   "source": [
    "def initialize_weights(X):\n",
    "    return np.random.randn(X.shape[1], 1)\n",
    "\n",
    "def initialize_bias():\n",
    "    \"\"\"create a column vector as a matrix\"\"\"\n",
    "    return np.random.randn(1)\n"
   ]
  },
  {
   "cell_type": "markdown",
   "metadata": {},
   "source": [
    "## 1-2. Update neuron states"
   ]
  },
  {
   "cell_type": "markdown",
   "metadata": {},
   "source": [
    "$$Z = X \\cdot W + b$$\n",
    "$$ A = \\frac {1} {1 + e^{-Z}}"
   ]
  },
  {
   "cell_type": "markdown",
   "metadata": {},
   "source": [
    "### 1-2-1. Activation function"
   ]
  },
  {
   "cell_type": "code",
   "execution_count": 11,
   "metadata": {},
   "outputs": [],
   "source": [
    "def sigmoid(Z):\n",
    "    A = 1 / (1 + np.exp(-Z))\n",
    "    return A"
   ]
  },
  {
   "cell_type": "markdown",
   "metadata": {},
   "source": [
    "### 1-2-2. Forward"
   ]
  },
  {
   "cell_type": "code",
   "execution_count": 12,
   "metadata": {},
   "outputs": [],
   "source": [
    "def forward(X, W, b):\n",
    "    Z = np.dot(X, W) + b\n",
    "    A = sigmoid(Z)\n",
    "    return A"
   ]
  },
  {
   "cell_type": "markdown",
   "metadata": {},
   "source": [
    "### 1-2-3. Predict"
   ]
  },
  {
   "cell_type": "code",
   "execution_count": 13,
   "metadata": {},
   "outputs": [],
   "source": [
    "def predict(X, W, b):\n",
    "    A = forward(X, W, b)\n",
    "    return (A >= 0.5).astype(int)"
   ]
  },
  {
   "cell_type": "markdown",
   "metadata": {},
   "source": [
    "# 2. Backward Propagation"
   ]
  },
  {
   "cell_type": "markdown",
   "metadata": {},
   "source": [
    "## 2-1. Evaluate performance - Loss"
   ]
  },
  {
   "cell_type": "markdown",
   "metadata": {},
   "source": [
    "$$L = - \\frac {1} {m} \\sum y \\log(A) + (1 - y) \\log(1 - A)$$"
   ]
  },
  {
   "cell_type": "code",
   "execution_count": 14,
   "metadata": {},
   "outputs": [],
   "source": [
    "def log_loss(A, y, eps=1e-15):\n",
    "    A = np.clip(A, eps, 1 - eps)\n",
    "    return - 1/len(y) * np.sum(y * np.log(A) + (1 - y) * np.log(1 - A))"
   ]
  },
  {
   "cell_type": "markdown",
   "metadata": {},
   "source": [
    "## 2-2. Backward - gradient(derivative)"
   ]
  },
  {
   "cell_type": "markdown",
   "metadata": {},
   "source": [
    "$$\\frac {\\partial {\\mathcal{L}}} {\\partial {W}} =\n",
    "\\frac {1} {m} X^T \\cdot (A - y)$$\n",
    "\n",
    "$$\\frac {\\partial {\\mathcal{L}}} {\\partial {b}} =\n",
    "\\frac {1} {m} \\sum(A - y)$$"
   ]
  },
  {
   "cell_type": "code",
   "execution_count": 15,
   "metadata": {},
   "outputs": [],
   "source": [
    "def gradients(X, A, y):\n",
    "    dW = 1 / len(y) * np.dot(X.T, A - y)\n",
    "    db = 1 / len(y) * np.sum(A - y)\n",
    "    return dW, db"
   ]
  },
  {
   "cell_type": "markdown",
   "metadata": {},
   "source": [
    "## 2-3. Update - Vectorized gradient descent"
   ]
  },
  {
   "cell_type": "markdown",
   "metadata": {},
   "source": [
    "$$\\begin{bmatrix}\n",
    "w_1 \\\\\n",
    "\\\\\n",
    "w_2 \\\\\n",
    "\\end{bmatrix}\n",
    "\n",
    "= \\begin{bmatrix}\n",
    "w_1 \\\\\n",
    "\\\\\n",
    "w_2 \\\\\n",
    "\\end{bmatrix}\n",
    "\n",
    "- \\alpha \n",
    "\\begin{bmatrix}\n",
    "\\frac {\\partial {\\mathcal{L}}} {\\partial {w_1}} \\\\\n",
    "\\\\\n",
    "\\frac {\\partial {\\mathcal{L}}} {\\partial {w_2}} \\\\\n",
    "\\end{bmatrix}, \\space\n",
    "W = \\begin{bmatrix}\n",
    "w_1 \\\\\n",
    "\\\\\n",
    "w_2 \\\\\n",
    "\\end{bmatrix} \\space\n",
    "\n",
    "\\frac {\\partial {\\mathcal{L}}} {\\partial {W}} = \n",
    "\\begin{bmatrix}\n",
    "\\frac {\\partial {\\mathcal{L}}} {\\partial {w_1}} \\\\\n",
    "\\\\\n",
    "\\frac {\\partial {\\mathcal{L}}} {\\partial {w_2}} \\\\\n",
    "\\end{bmatrix}$$\n",
    "\n",
    "$$b = b - \\alpha\n",
    "\\frac {\\partial {\\mathcal{L}}} {\\partial {b}}$$"
   ]
  },
  {
   "cell_type": "markdown",
   "metadata": {},
   "source": [
    "$$ W = W - \\alpha\n",
    "\\frac {\\partial {\\mathcal{L}}} {\\partial {W}}$$\n",
    "\n",
    "$$b = b - \\alpha\n",
    "\\frac {\\partial {\\mathcal{L}}} {\\partial {b}}$$"
   ]
  },
  {
   "cell_type": "code",
   "execution_count": 16,
   "metadata": {},
   "outputs": [],
   "source": [
    "def update(dW, db, W, b, lr):\n",
    "    W = W - lr * dW\n",
    "    b = b - lr * db\n",
    "    return W, b"
   ]
  },
  {
   "cell_type": "markdown",
   "metadata": {},
   "source": [
    "# 3. Neural Network - 1 layer perceptron"
   ]
  },
  {
   "cell_type": "code",
   "execution_count": 42,
   "metadata": {},
   "outputs": [],
   "source": [
    "def perceptron(x_train, y_train, x_test=None, y_test=None, lr=0.01, epochs=1000):\n",
    "    W = initialize_weights(x_train)\n",
    "    b = initialize_bias()\n",
    "\n",
    "    train_loss = []\n",
    "    train_acc = []\n",
    "    test_loss = []\n",
    "    test_acc = []\n",
    "\n",
    "    for epoch in tqdm(range(epochs)):\n",
    "        A = forward(x_train, W, b)\n",
    "\n",
    "        if epoch % 10 == 0:\n",
    "            # trian loss\n",
    "            train_loss.append(log_loss(A, y_train))\n",
    "            # accuracy\n",
    "            y_pred = predict(x_train, W, b)\n",
    "            train_acc.append(accuracy_score(y_train, y_pred))\n",
    "\n",
    "            if x_test is not None and y_test is not None:\n",
    "                # test loss\n",
    "                A_test = forward(x_test, W, b)\n",
    "                test_loss.append(log_loss(A_test, y_test))\n",
    "                # accuracy\n",
    "                y_pred = predict(x_test, W, b)\n",
    "                test_acc.append(accuracy_score(y_test, y_pred))\n",
    "\n",
    "        # update\n",
    "        dW, db = gradients(x_train, A, y_train)\n",
    "        W, b = update(dW, db, W, b, lr)\n",
    "\n",
    "    plt.figure(figsize=(12, 4))\n",
    "    plt.subplot(1, 2, 1)\n",
    "    plt.plot(train_loss, label=\"train loss\")\n",
    "    plt.plot(test_loss , label=\"test loss\")\n",
    "    plt.legend()\n",
    "    plt.subplot(1, 2, 2)\n",
    "    plt.plot(train_acc, label=\"train_acc\")\n",
    "    plt.plot(test_acc, label=\"test_acc\")\n",
    "    plt.legend()\n",
    "    plt.show()\n",
    "\n",
    "    return W, b\n"
   ]
  },
  {
   "cell_type": "markdown",
   "metadata": {},
   "source": [
    "### Learning Curves"
   ]
  },
  {
   "cell_type": "code",
   "execution_count": null,
   "metadata": {},
   "outputs": [],
   "source": [
    "def plot_learning_curves(X, y, W, b, train_loss, train_acc):\n",
    "    # Generate input data for decision boundary plot\n",
    "    x1_range = np.linspace(-1.5, 1.5, 100)\n",
    "    x2_range = np.linspace(-1.5, 1.5, 100)\n",
    "    x1_grid, x2_grid = np.meshgrid(x1_range, x2_range)\n",
    "\n",
    "    # Calculate output for each input pair\n",
    "    z_grid = np.array([[predict(np.array([[x1], [x2]]), W, b)[0, 0] for x1 in x1_range] for x2 in x2_range])\n",
    "\n",
    "    plt.figure(figsize=(16, 4))\n",
    "    plt.subplot(1, 3, 1)\n",
    "    plt.plot(train_loss, label=\"train loss\")\n",
    "    plt.legend()\n",
    "    plt.subplot(1, 3, 2)\n",
    "    plt.plot(train_acc, label=\"train_acc\")\n",
    "    plt.legend()\n",
    "    \n",
    "    # Plotting decision boundary\n",
    "    plt.subplot(1, 3, 3)\n",
    "    plt.contourf(x1_grid, x2_grid, z_grid, levels=50, cmap='viridis', alpha=0.7)\n",
    "    plt.colorbar()\n",
    "\n",
    "    # Plot the dataset points\n",
    "    plt.scatter(X[:, 0], X[:, 1], c=y, cmap=\"summer\", edgecolor='k')\n",
    "    plt.title(\"Decision Boundary\")\n",
    "    plt.xlabel('x1')\n",
    "    plt.ylabel('x2')\n",
    "    plt.show()"
   ]
  }
 ],
 "metadata": {
  "kernelspec": {
   "display_name": "42AI-cjung-mo",
   "language": "python",
   "name": "python3"
  },
  "language_info": {
   "codemirror_mode": {
    "name": "ipython",
    "version": 3
   },
   "file_extension": ".py",
   "mimetype": "text/x-python",
   "name": "python",
   "nbconvert_exporter": "python",
   "pygments_lexer": "ipython3",
   "version": "3.11.5"
  }
 },
 "nbformat": 4,
 "nbformat_minor": 2
}
