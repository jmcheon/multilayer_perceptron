{
 "cells": [
  {
   "cell_type": "code",
   "execution_count": 50,
   "metadata": {},
   "outputs": [],
   "source": [
    "import numpy as np\n",
    "import matplotlib.pyplot as plt\n",
    "from sklearn.metrics import accuracy_score\n",
    "from tqdm import tqdm"
   ]
  },
  {
   "cell_type": "markdown",
   "metadata": {},
   "source": [
    "# 0. Notation\n",
    "\n",
    "m: number of examples\n",
    "\n",
    "$n_x$ = $n^{[0]}$: number of variables(features)\n",
    "\n",
    "$n_y$: number of output(classes) \n",
    "\n",
    "x.shape: (n_x, m)\n",
    "\n",
    "y.shape: (n_y, m)\n",
    "\n",
    "W: (m, n)\n",
    "\n",
    "b: (,1)"
   ]
  },
  {
   "cell_type": "markdown",
   "metadata": {},
   "source": [
    "# 1. Forward Propagation"
   ]
  },
  {
   "cell_type": "markdown",
   "metadata": {},
   "source": [
    "## 1-1. Initialize parameters\n",
    "- Weights and biases are parameters that model connections between different layers\n",
    "- Define parameter shape: keep the implementation as close as possible to the mathmatical calculations"
   ]
  },
  {
   "cell_type": "markdown",
   "metadata": {},
   "source": [
    "$$X = \n",
    "\\left[\n",
    "\\begin{matrix} \n",
    "x_{1}^{(1)} & x_{1}^{(2)} & \\dots & x_{1}^{(m)} \\\\\n",
    "x_{2}^{(1)} & x_{2}^{(2)} & \\dots & x_{2}^{(m)} \\\\\n",
    "\\vdots & \\vdots & \\vdots & \\vdots \\\\\n",
    "x_{n}^{(1)} & x_{n}^{(2)} & \\dots & x_{n}^{(m)} \\\\\n",
    "\\end{matrix}\n",
    "\\right] \\in \\R^{n \\times m} $$\n",
    "\n",
    "$$W^{[1]} \\in \\R^{n^{[1]} \\times n^{[0]}}$$\n",
    "\n",
    "$$b^{[1]} \\in \\R^{n^{[1]} \\times 1}$$"
   ]
  },
  {
   "cell_type": "code",
   "execution_count": 51,
   "metadata": {},
   "outputs": [],
   "source": [
    "def initialize_parameters(n0, n1, n2):\n",
    "    W1 = np.random.randn(n1, n0)\n",
    "    b1 = np.random.randn(n1, 1)\n",
    "    W2 = np.random.randn(n2, n1)\n",
    "    b2 = np.random.randn(n2, 1)\n",
    "\n",
    "    parameters = {\n",
    "        \"W1\" : W1,\n",
    "        \"b1\" : b1,\n",
    "        \"W2\" : W2,\n",
    "        \"b2\" : b2,\n",
    "    }\n",
    "    return parameters"
   ]
  },
  {
   "cell_type": "markdown",
   "metadata": {},
   "source": [
    "## 1-2. Update neuron states"
   ]
  },
  {
   "cell_type": "markdown",
   "metadata": {},
   "source": [
    "$$Z^{[1]} = W^{[1]} \\cdot X + b^{[1]} $$\n",
    "$$ A^{[1]} = \\frac {1} {1 + e^{-Z^{[1]}}}$$\n",
    "\n",
    "$$Z^{[2]} = W^{[2]} \\cdot A^{[1]} + b^{[2]} $$\n",
    "$$ A^{[2]} = \\frac {1} {1 + e^{-Z^{[2]}}}$$"
   ]
  },
  {
   "cell_type": "markdown",
   "metadata": {},
   "source": [
    "### 1-2-1. Activation function"
   ]
  },
  {
   "cell_type": "code",
   "execution_count": 52,
   "metadata": {},
   "outputs": [],
   "source": [
    "def sigmoid(Z):\n",
    "    A = 1 / (1 + np.exp(-Z))\n",
    "    return A"
   ]
  },
  {
   "cell_type": "markdown",
   "metadata": {},
   "source": [
    "### 1-2-2. Forward"
   ]
  },
  {
   "cell_type": "code",
   "execution_count": 53,
   "metadata": {},
   "outputs": [],
   "source": [
    "def forward(X, parameters):\n",
    "    W1 = parameters[\"W1\"]\n",
    "    b1 = parameters[\"b1\"]\n",
    "    W2 = parameters[\"W2\"]\n",
    "    b2 = parameters[\"b2\"]\n",
    "\n",
    "    Z1 = np.dot(W1, X) + b1\n",
    "    A1 = sigmoid(Z1) \n",
    "    Z2 = np.dot(W2, A1) + b2\n",
    "    A2 = sigmoid(Z2) \n",
    "\n",
    "    activations = {\n",
    "        \"A1\": A1,\n",
    "        \"A2\": A2,\n",
    "    }\n",
    "    return activations"
   ]
  },
  {
   "cell_type": "markdown",
   "metadata": {},
   "source": [
    "### 1-2-3. Predict"
   ]
  },
  {
   "cell_type": "code",
   "execution_count": 54,
   "metadata": {},
   "outputs": [],
   "source": [
    "def predict(X, parameters):\n",
    "    activations = forward(X, parameters)\n",
    "    A2 = activations[\"A2\"]\n",
    "    return (A2 >= 0.5).astype(int)"
   ]
  },
  {
   "cell_type": "markdown",
   "metadata": {},
   "source": [
    "# 2. Backward Propagation"
   ]
  },
  {
   "cell_type": "markdown",
   "metadata": {},
   "source": [
    "## 2-1. Evaluate performance - Loss"
   ]
  },
  {
   "cell_type": "markdown",
   "metadata": {},
   "source": [
    "$$L = - \\frac {1} {m} \\sum y \\log(A) + (1 - y) \\log(1 - A)$$"
   ]
  },
  {
   "cell_type": "code",
   "execution_count": 55,
   "metadata": {},
   "outputs": [],
   "source": [
    "def log_loss(A, y, eps=1e-15):\n",
    "    A = np.clip(A, eps, 1 - eps)\n",
    "    return - 1/len(y) * np.sum(y * np.log(A) + (1 - y) * np.log(1 - A))"
   ]
  },
  {
   "cell_type": "markdown",
   "metadata": {},
   "source": [
    "## 2-2. Backward - gradient(derivative)"
   ]
  },
  {
   "cell_type": "markdown",
   "metadata": {},
   "source": [
    "$$\\frac {\\partial {\\mathcal{L}}} {\\partial {W}} =\n",
    "\\frac {1} {m}  (A - y) \\cdot X^T$$\n",
    "\n",
    "$$\\frac {\\partial {\\mathcal{L}}} {\\partial {b}} =\n",
    "\\frac {1} {m} \\sum(A - y)$$\n",
    "\n",
    "---\n",
    "\n",
    "$$ dZ^{[2]} = A^{[2]} - y $$\n",
    "\n",
    "$$ dW^{[2]} = \\frac {1} {m} dZ^{[2]} \\cdot A^{[1]^T} $$\n",
    "$$ db^{[2]} = \\frac {1} {m} \\sum dZ^{[2]} $$\n",
    "\n",
    "---\n",
    "$$ dZ^{[1]} = W^{[2]^T} \\cdot dZ^{[2]} \\times A^{[1]}(1 - A^{[1]}) $$\n",
    "\n",
    "$$ dW^{[1]} = \\frac {1} {m} dZ^{[1]} \\cdot X^{T} = \\frac {1} {m} dZ^{[1]} \\cdot A^{[0]^T} $$\n",
    "$$ db^{[1]} = \\frac {1} {m} \\sum dZ^{[1]} $$"
   ]
  },
  {
   "cell_type": "code",
   "execution_count": 56,
   "metadata": {},
   "outputs": [],
   "source": [
    "def backward(X, y, activations, parameters):\n",
    "    A1 = activations[\"A1\"]\n",
    "    A2 = activations[\"A2\"]\n",
    "\n",
    "    W1 = parameters[\"W1\"]\n",
    "    b1 = parameters[\"b1\"]\n",
    "    W2 = parameters[\"W2\"]\n",
    "    b2 = parameters[\"b2\"]\n",
    "\n",
    "    m = y.shape[1]\n",
    "    dZ2 = A2 - y\n",
    "    dW2 = 1 / m * np.dot(dZ2, A1.T)\n",
    "    db2 = 1 / m * np.sum(dZ2, axis=1, keepdims=True)\n",
    "\n",
    "    dZ1 = np.dot(W2.T, dZ2) * A1 * (1 - A1) \n",
    "    dW1 = 1 / m * np.dot(dZ1, X.T)\n",
    "    db1 = 1 / m * np.sum(dZ1, axis=1, keepdims=True)\n",
    "\n",
    "    gradients = {\n",
    "        \"dW1\" : dW1,\n",
    "        \"db1\" : db1,\n",
    "        \"dW2\" : dW2,\n",
    "        \"db2\" : db2,\n",
    "    }\n",
    "    return gradients "
   ]
  },
  {
   "cell_type": "markdown",
   "metadata": {},
   "source": [
    "## 2-3. Update - Vectorized gradient descent"
   ]
  },
  {
   "cell_type": "markdown",
   "metadata": {},
   "source": [
    "$$\\begin{bmatrix}\n",
    "w_1 \\\\\n",
    "\\\\\n",
    "w_2 \\\\\n",
    "\\end{bmatrix}\n",
    "\n",
    "= \\begin{bmatrix}\n",
    "w_1 \\\\\n",
    "\\\\\n",
    "w_2 \\\\\n",
    "\\end{bmatrix}\n",
    "\n",
    "- \\alpha \n",
    "\\begin{bmatrix}\n",
    "\\frac {\\partial {\\mathcal{L}}} {\\partial {w_1}} \\\\\n",
    "\\\\\n",
    "\\frac {\\partial {\\mathcal{L}}} {\\partial {w_2}} \\\\\n",
    "\\end{bmatrix}, \\space\n",
    "W = \\begin{bmatrix}\n",
    "w_1 \\\\\n",
    "\\\\\n",
    "w_2 \\\\\n",
    "\\end{bmatrix} \\space\n",
    "\n",
    "\\frac {\\partial {\\mathcal{L}}} {\\partial {W}} = \n",
    "\\begin{bmatrix}\n",
    "\\frac {\\partial {\\mathcal{L}}} {\\partial {w_1}} \\\\\n",
    "\\\\\n",
    "\\frac {\\partial {\\mathcal{L}}} {\\partial {w_2}} \\\\\n",
    "\\end{bmatrix}$$\n",
    "\n",
    "$$b = b - \\alpha\n",
    "\\frac {\\partial {\\mathcal{L}}} {\\partial {b}}$$"
   ]
  },
  {
   "cell_type": "markdown",
   "metadata": {},
   "source": [
    "$$ W^{[1]} = W^{[1]} - \\alpha \\times dW^{[1]} $$\n",
    "\n",
    "$$b^{[1]} = b^{[1]} - \\alpha \\times db^{[1]} $$\n",
    "\n",
    "$$ W^{[2]} = W^{[2]} - \\alpha \\times dW^{[2]} $$\n",
    "\n",
    "$$b^{[2]} = b^{[2]} - \\alpha \\times db^{[2]} $$\n"
   ]
  },
  {
   "cell_type": "code",
   "execution_count": 57,
   "metadata": {},
   "outputs": [],
   "source": [
    "def update(gradients, parameters, lr):\n",
    "\n",
    "    W1 = parameters[\"W1\"]\n",
    "    b1 = parameters[\"b1\"]\n",
    "    W2 = parameters[\"W2\"]\n",
    "    b2 = parameters[\"b2\"]\n",
    "\n",
    "    dW1 = gradients[\"dW1\"]\n",
    "    db1 = gradients[\"db1\"]\n",
    "    dW2 = gradients[\"dW2\"]\n",
    "    db2 = gradients[\"db2\"]\n",
    "\n",
    "    W1 = W1 - lr * dW1\n",
    "    b1 = b1 - lr * db1\n",
    "    W2 = W2 - lr * dW2\n",
    "    b2 = b2 - lr * db2\n",
    "\n",
    "    parameters = {\n",
    "        \"W1\" : W1,\n",
    "        \"b1\" : b1,\n",
    "        \"W2\" : W2,\n",
    "        \"b2\" : b2,\n",
    "    }\n",
    "    return parameters"
   ]
  },
  {
   "cell_type": "markdown",
   "metadata": {},
   "source": [
    "# 3. Neural Network - 2 layers multilayer perceptron"
   ]
  },
  {
   "cell_type": "code",
   "execution_count": 58,
   "metadata": {},
   "outputs": [],
   "source": [
    "def mlp_2layers(x_train, y_train, n1, x_test=None, y_test=None, lr=0.01, epochs=100):\n",
    "\n",
    "    n0 = x_train.shape[0]\n",
    "    n2 = y_train.shape[0]\n",
    "\n",
    "    parameters = initialize_parameters(n0, n1, n2)\n",
    "\n",
    "    train_loss = []\n",
    "    train_acc = []\n",
    "    test_loss = []\n",
    "    test_acc = []\n",
    "\n",
    "    for epoch in tqdm(range(epochs)):\n",
    "\n",
    "        activations = forward(x_train, parameters)\n",
    "        gradients = backward(x_train, y_train, activations, parameters)\n",
    "        parameters = update(gradients, parameters, lr)\n",
    "\n",
    "        if epoch % 10 == 0:\n",
    "            # trian loss\n",
    "            train_loss.append(log_loss(activations[\"A2\"], y_train))\n",
    "            # accuracy\n",
    "            y_pred = predict(x_train, parameters)\n",
    "            train_acc.append(accuracy_score(y_train.flatten(), y_pred.flatten()))\n",
    "\n",
    "            if x_test is not None and y_test is not None:\n",
    "                # test loss\n",
    "                A_test = forward(x_test, parameters)\n",
    "                test_loss.append(log_loss(A_test, y_test))\n",
    "                # accuracy\n",
    "                y_pred = predict(x_test, parameters)\n",
    "                test_acc.append(accuracy_score(y_test.flatten(), y_pred.flatten()))\n",
    "\n",
    "    return parameters, train_loss, train_acc"
   ]
  },
  {
   "cell_type": "markdown",
   "metadata": {},
   "source": [
    "### Learning Curves"
   ]
  },
  {
   "cell_type": "code",
   "execution_count": 59,
   "metadata": {},
   "outputs": [],
   "source": [
    "def plot_learning_curves(X, y, parameters, train_loss, train_acc):\n",
    "    # Generate input data for decision boundary plot\n",
    "    x1_range = np.linspace(-1.5, 1.5, 100)\n",
    "    x2_range = np.linspace(-1.5, 1.5, 100)\n",
    "    x1_grid, x2_grid = np.meshgrid(x1_range, x2_range)\n",
    "\n",
    "    # Calculate output for each input pair\n",
    "    z_grid = np.array([[predict(np.array([[x1], [x2]]), parameters)[0, 0] for x1 in x1_range] for x2 in x2_range])\n",
    "\n",
    "    plt.figure(figsize=(16, 4))\n",
    "    plt.subplot(1, 3, 1)\n",
    "    plt.plot(train_loss, label=\"train loss\")\n",
    "    plt.legend()\n",
    "    plt.subplot(1, 3, 2)\n",
    "    plt.plot(train_acc, label=\"train_acc\")\n",
    "    plt.legend()\n",
    "    \n",
    "    # Plotting decision boundary\n",
    "    plt.subplot(1, 3, 3)\n",
    "    plt.contourf(x1_grid, x2_grid, z_grid, levels=50, cmap='viridis', alpha=0.7)\n",
    "    plt.colorbar()\n",
    "\n",
    "    # Plot the dataset points\n",
    "    plt.scatter(X[0, :], X[1, :], c=y, cmap=\"summer\", edgecolor='k')\n",
    "    plt.title(\"Decision Boundary\")\n",
    "    plt.xlabel('x1')\n",
    "    plt.ylabel('x2')\n",
    "    plt.show()"
   ]
  }
 ],
 "metadata": {
  "kernelspec": {
   "display_name": "42AI-cjung-mo",
   "language": "python",
   "name": "python3"
  },
  "language_info": {
   "codemirror_mode": {
    "name": "ipython",
    "version": 3
   },
   "file_extension": ".py",
   "mimetype": "text/x-python",
   "name": "python",
   "nbconvert_exporter": "python",
   "pygments_lexer": "ipython3",
   "version": "3.11.5"
  }
 },
 "nbformat": 4,
 "nbformat_minor": 2
}
