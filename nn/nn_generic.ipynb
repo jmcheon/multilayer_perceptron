{
 "cells": [
  {
   "cell_type": "code",
   "execution_count": 2,
   "metadata": {},
   "outputs": [],
   "source": [
    "import numpy as np\n",
    "import matplotlib.pyplot as plt\n",
    "from sklearn.metrics import accuracy_score\n",
    "from tqdm import tqdm"
   ]
  },
  {
   "cell_type": "markdown",
   "metadata": {},
   "source": [
    "# 0. Notation\n",
    "\n",
    "l: number of layers\n",
    "\n",
    "m: number of examples\n",
    "\n",
    "$n_x$ = $n^{[0]}$: number of variables(features)\n",
    "\n",
    "$n_y$: number of output(classes) \n",
    "\n",
    "x.shape: (n_x, m)\n",
    "\n",
    "y.shape: (n_y, m)\n",
    "\n",
    "W: (m, n)\n",
    "\n",
    "b: (,1)"
   ]
  },
  {
   "cell_type": "markdown",
   "metadata": {},
   "source": [
    "# 1. Forward Propagation"
   ]
  },
  {
   "cell_type": "markdown",
   "metadata": {},
   "source": [
    "## 1-1. Initialize parameters\n",
    "- Weights and biases are parameters that model connections between different layers\n",
    "- Define parameter shape: keep the implementation as close as possible to the mathmatical calculations"
   ]
  },
  {
   "cell_type": "markdown",
   "metadata": {},
   "source": [
    "$$X = \n",
    "\\left[\n",
    "\\begin{matrix} \n",
    "x_{1}^{(1)} & x_{1}^{(2)} & \\dots & x_{1}^{(m)} \\\\\n",
    "x_{2}^{(1)} & x_{2}^{(2)} & \\dots & x_{2}^{(m)} \\\\\n",
    "\\vdots & \\vdots & \\vdots & \\vdots \\\\\n",
    "x_{n}^{(1)} & x_{n}^{(2)} & \\dots & x_{n}^{(m)} \\\\\n",
    "\\end{matrix}\n",
    "\\right] \\in \\R^{n \\times m} $$\n",
    "\n",
    "$$W^{[l]} \\in \\R^{n^{[l]} \\times n^{[l - 1]}}$$\n",
    "\n",
    "$$b^{[l]} \\in \\R^{n^{[l]} \\times 1}$$"
   ]
  },
  {
   "cell_type": "code",
   "execution_count": 6,
   "metadata": {},
   "outputs": [],
   "source": [
    "def initialize_parameters(dimensions):\n",
    "    parameters = {}\n",
    "    n_layers = len(dimensions)\n",
    "\n",
    "    for l in range(1, n_layers):\n",
    "        parameters[\"W\" + str(l)] = np.random.randn(dimensions[l], dimensions[l - 1])\n",
    "        parameters[\"b\" + str(l)] = np.random.randn(dimensions[l], 1)\n",
    "\n",
    "    return parameters"
   ]
  },
  {
   "cell_type": "code",
   "execution_count": 17,
   "metadata": {},
   "outputs": [
    {
     "name": "stdout",
     "output_type": "stream",
     "text": [
      "W1 (32, 2)\n",
      "b1 (32, 1)\n",
      "W2 (32, 32)\n",
      "b2 (32, 1)\n",
      "W3 (1, 32)\n",
      "b3 (1, 1)\n"
     ]
    }
   ],
   "source": [
    "parameters = initialize_parameters([2, 32, 32, 1])\n",
    "\n",
    "for key, value in parameters.items():\n",
    "    print(key, value.shape)"
   ]
  },
  {
   "cell_type": "markdown",
   "metadata": {},
   "source": [
    "## 1-2. Update neuron states"
   ]
  },
  {
   "cell_type": "markdown",
   "metadata": {},
   "source": [
    "$$Z^{[l]} = W^{[l]} \\cdot A^{[l - 1]} + b^{[l]} $$\n",
    "$$ A^{[l]} = \\frac {1} {1 + e^{-Z^{[l]}}}$$"
   ]
  },
  {
   "cell_type": "markdown",
   "metadata": {},
   "source": [
    "### 1-2-1. Activation function"
   ]
  },
  {
   "cell_type": "code",
   "execution_count": 18,
   "metadata": {},
   "outputs": [],
   "source": [
    "def sigmoid(Z):\n",
    "    A = 1 / (1 + np.exp(-Z))\n",
    "    return A"
   ]
  },
  {
   "cell_type": "markdown",
   "metadata": {},
   "source": [
    "### 1-2-2. Forward"
   ]
  },
  {
   "cell_type": "code",
   "execution_count": 19,
   "metadata": {},
   "outputs": [],
   "source": [
    "def forward(X, parameters):\n",
    "    activations = {\"A0\": X}\n",
    "\n",
    "    n_layers = len(parameters) // 2\n",
    "\n",
    "    for l in range(1, n_layers + 1):\n",
    "        Z = np.dot(parameters[\"W\" + str(l)], activations[\"A\" + str(l - 1)]) + parameters[\"b\" + str(l)]\n",
    "        activations[\"A\" + str(l)] = sigmoid(Z) \n",
    "\n",
    "    return activations"
   ]
  },
  {
   "cell_type": "code",
   "execution_count": 26,
   "metadata": {},
   "outputs": [
    {
     "name": "stdout",
     "output_type": "stream",
     "text": [
      "A0 (2, 1)\n",
      "A1 (32, 1)\n",
      "A2 (32, 1)\n",
      "A3 (1, 1)\n"
     ]
    }
   ],
   "source": [
    "X = np.array([[2], [1]])\n",
    "activations = forward(X, parameters)\n",
    "\n",
    "for key, value in activations.items():\n",
    "    print(key, value.shape)"
   ]
  },
  {
   "cell_type": "markdown",
   "metadata": {},
   "source": [
    "### 1-2-3. Predict"
   ]
  },
  {
   "cell_type": "code",
   "execution_count": 37,
   "metadata": {},
   "outputs": [],
   "source": [
    "def predict(X, parameters):\n",
    "    activations = forward(X, parameters)\n",
    "    n_layers = len(parameters) // 2\n",
    "    Af = activations[\"A\" + str(n_layers)]\n",
    "    return (Af >= 0.5).astype(int)"
   ]
  },
  {
   "cell_type": "markdown",
   "metadata": {},
   "source": [
    "# 2. Backward Propagation"
   ]
  },
  {
   "cell_type": "markdown",
   "metadata": {},
   "source": [
    "## 2-1. Evaluate performance - Loss"
   ]
  },
  {
   "cell_type": "markdown",
   "metadata": {},
   "source": [
    "$$L = - \\frac {1} {m} \\sum y \\log(A) + (1 - y) \\log(1 - A)$$"
   ]
  },
  {
   "cell_type": "code",
   "execution_count": 28,
   "metadata": {},
   "outputs": [],
   "source": [
    "def log_loss(A, y, eps=1e-15):\n",
    "    A = np.clip(A, eps, 1 - eps)\n",
    "    return - 1/len(y) * np.sum(y * np.log(A) + (1 - y) * np.log(1 - A))"
   ]
  },
  {
   "cell_type": "markdown",
   "metadata": {},
   "source": [
    "## 2-2. Backward - gradient(derivative)"
   ]
  },
  {
   "cell_type": "markdown",
   "metadata": {},
   "source": [
    "$$\\frac {\\partial {\\mathcal{L}}} {\\partial {W}} =\n",
    "\\frac {1} {m}  (A - y) \\cdot X^T$$\n",
    "\n",
    "$$\\frac {\\partial {\\mathcal{L}}} {\\partial {b}} =\n",
    "\\frac {1} {m} \\sum(A - y)$$\n",
    "\n",
    "---\n",
    "\n",
    "$$ dZ^{[L]} = A^{[L]} - y $$\n",
    "$$ dW^{[l]} = \\frac {1} {m} dZ^{[l]} \\cdot A^{[l - 1]^T} $$\n",
    "$$ db^{[l]} = \\frac {1} {m} \\sum dZ^{[l]} $$\n",
    "\n",
    "$$ dZ^{[l - 1]} = W^{[l]^T} \\cdot dZ^{[l]} \\times A^{[l - 1]}(1 - A^{[l - 1]}) $$\n"
   ]
  },
  {
   "cell_type": "code",
   "execution_count": 31,
   "metadata": {},
   "outputs": [],
   "source": [
    "def backward(y, activations, parameters):\n",
    "    gradients = {}\n",
    "\n",
    "    m = y.shape[1]\n",
    "    n_layers = len(parameters) // 2\n",
    "\n",
    "    dZ = activations[\"A\" + str(n_layers)] - y\n",
    "\n",
    "    for l in reversed(range(1, n_layers + 1)):\n",
    "        gradients[\"dW\" + str(l)] = 1 / m * np.dot(dZ, activations[\"A\" + str(l - 1)].T)\n",
    "        gradients[\"db\" + str(l)] = 1 / m * np.sum(dZ, axis=1, keepdims=True)\n",
    "        if l > 1:\n",
    "            dZ = np.dot(parameters[\"W\" + str(l)].T, dZ) * activations[\"A\" + str(l - 1)] * (1 - activations[\"A\" + str(l - 1)])\n",
    "\n",
    "    return gradients "
   ]
  },
  {
   "cell_type": "code",
   "execution_count": 34,
   "metadata": {},
   "outputs": [
    {
     "name": "stdout",
     "output_type": "stream",
     "text": [
      "dW3 (1, 32)\n",
      "db3 (1, 1)\n",
      "dW2 (32, 32)\n",
      "db2 (32, 1)\n",
      "dW1 (32, 2)\n",
      "db1 (32, 1)\n"
     ]
    }
   ],
   "source": [
    "y = np.array([[1]])\n",
    "gradients = backward(y, activations, parameters)\n",
    "\n",
    "for key, value in gradients.items():\n",
    "    print(key, value.shape)"
   ]
  },
  {
   "cell_type": "markdown",
   "metadata": {},
   "source": [
    "## 2-3. Update - Vectorized gradient descent"
   ]
  },
  {
   "cell_type": "markdown",
   "metadata": {},
   "source": [
    "$$\\begin{bmatrix}\n",
    "w_1 \\\\\n",
    "\\\\\n",
    "w_2 \\\\\n",
    "\\end{bmatrix}\n",
    "\n",
    "= \\begin{bmatrix}\n",
    "w_1 \\\\\n",
    "\\\\\n",
    "w_2 \\\\\n",
    "\\end{bmatrix}\n",
    "\n",
    "- \\alpha \n",
    "\\begin{bmatrix}\n",
    "\\frac {\\partial {\\mathcal{L}}} {\\partial {w_1}} \\\\\n",
    "\\\\\n",
    "\\frac {\\partial {\\mathcal{L}}} {\\partial {w_2}} \\\\\n",
    "\\end{bmatrix}, \\space\n",
    "W = \\begin{bmatrix}\n",
    "w_1 \\\\\n",
    "\\\\\n",
    "w_2 \\\\\n",
    "\\end{bmatrix} \\space\n",
    "\n",
    "\\frac {\\partial {\\mathcal{L}}} {\\partial {W}} = \n",
    "\\begin{bmatrix}\n",
    "\\frac {\\partial {\\mathcal{L}}} {\\partial {w_1}} \\\\\n",
    "\\\\\n",
    "\\frac {\\partial {\\mathcal{L}}} {\\partial {w_2}} \\\\\n",
    "\\end{bmatrix}$$\n",
    "\n",
    "$$b = b - \\alpha\n",
    "\\frac {\\partial {\\mathcal{L}}} {\\partial {b}}$$"
   ]
  },
  {
   "cell_type": "markdown",
   "metadata": {},
   "source": [
    "$$ W^{[l]} = W^{[l]} - \\alpha \\times dW^{[l]} $$\n",
    "\n",
    "$$b^{[l]} = b^{[l]} - \\alpha \\times db^{[l]} $$"
   ]
  },
  {
   "cell_type": "code",
   "execution_count": 35,
   "metadata": {},
   "outputs": [],
   "source": [
    "def update(gradients, parameters, lr):\n",
    "\n",
    "    n_layers = len(parameters) // 2\n",
    "\n",
    "    for l in range(1, n_layers + 1):\n",
    "        parameters[\"W\" + str(l)] -= lr * gradients[\"dW\" + str(l)]\n",
    "        parameters[\"b\" + str(l)] -= lr * gradients[\"db\" + str(l)]\n",
    "\n",
    "    return parameters"
   ]
  },
  {
   "cell_type": "markdown",
   "metadata": {},
   "source": [
    "# 3. Neural Network - 2 layers multilayer perceptron"
   ]
  },
  {
   "cell_type": "code",
   "execution_count": 40,
   "metadata": {},
   "outputs": [],
   "source": [
    "def neural_net(x_train, y_train, hidden_layers = (32, 32, 32), x_test=None, y_test=None, lr=0.01, epochs=100):\n",
    "\n",
    "    np.random.seed(0)\n",
    "    dimensions = list(hidden_layers)\n",
    "    dimensions.insert(0, x_train.shape[0])\n",
    "    dimensions.append(y_train.shape[0])\n",
    "\n",
    "    parameters = initialize_parameters(dimensions)\n",
    "\n",
    "    train_loss = []\n",
    "    train_acc = []\n",
    "    test_loss = []\n",
    "    test_acc = []\n",
    "\n",
    "    for epoch in tqdm(range(epochs)):\n",
    "\n",
    "        activations = forward(x_train, parameters)\n",
    "        gradients = backward(y_train, activations, parameters)\n",
    "        parameters = update(gradients, parameters, lr)\n",
    "\n",
    "        if epoch % 10 == 0:\n",
    "            n_layers = len(parameters) // 2\n",
    "            # trian loss\n",
    "            train_loss.append(log_loss(activations[\"A\" + str(n_layers)], y_train))\n",
    "            # accuracy\n",
    "            y_pred = predict(x_train, parameters)\n",
    "            train_acc.append(accuracy_score(y_train.flatten(), y_pred.flatten()))\n",
    "\n",
    "            if x_test is not None and y_test is not None:\n",
    "                # test loss\n",
    "                test_activations = forward(x_test, parameters)\n",
    "                test_loss.append(log_loss(test_activations[\"A\" + str(n_layers)], y_test))\n",
    "                # accuracy\n",
    "                y_pred = predict(x_test, parameters)\n",
    "                test_acc.append(accuracy_score(y_test.flatten(), y_pred.flatten()))\n",
    "    \n",
    "    fig, ax = plt.subplots(1, 3, figsize=(16, 4))\n",
    "    ax[0].plot(train_loss, label=\"train loss\")\n",
    "    ax[0].legend()\n",
    "    ax[1].plot(train_acc, label=\"train_acc\")\n",
    "    ax[1].legend()\n",
    "\n",
    "    plot_learning_curves(x_train, y_train, parameters, ax[2])\n",
    "\n",
    "    plt.show()\n",
    "\n",
    "    return parameters, train_loss, train_acc"
   ]
  },
  {
   "cell_type": "markdown",
   "metadata": {},
   "source": [
    "### Learning Curves"
   ]
  },
  {
   "cell_type": "code",
   "execution_count": 38,
   "metadata": {},
   "outputs": [],
   "source": [
    "def plot_learning_curves(X, y, parameters, ax):\n",
    "    # Generate input data for decision boundary plot\n",
    "    x1_range = np.linspace(-1.5, 1.5, 100)\n",
    "    x2_range = np.linspace(-1.5, 1.5, 100)\n",
    "    x1_grid, x2_grid = np.meshgrid(x1_range, x2_range)\n",
    "\n",
    "    # Calculate output for each input pair\n",
    "    z_grid = np.array([[predict(np.array([[x1], [x2]]), parameters)[0, 0] for x1 in x1_range] for x2 in x2_range])\n",
    "\n",
    "    # Plotting decision boundary\n",
    "    contour = ax.contourf(x1_grid, x2_grid, z_grid, levels=50, cmap='viridis', alpha=0.7)\n",
    "    plt.colorbar(contour, ax=ax)\n",
    "\n",
    "    # Plot the dataset points\n",
    "    ax.scatter(X[0, :], X[1, :], c=y, cmap=\"summer\", edgecolor='k')\n",
    "    ax.set_title(\"Decision Boundary\")\n",
    "    ax.set_xlabel('x1')\n",
    "    ax.set_ylabel('x2')"
   ]
  },
  {
   "cell_type": "code",
   "execution_count": null,
   "metadata": {},
   "outputs": [],
   "source": []
  }
 ],
 "metadata": {
  "kernelspec": {
   "display_name": "42AI-cjung-mo",
   "language": "python",
   "name": "python3"
  },
  "language_info": {
   "codemirror_mode": {
    "name": "ipython",
    "version": 3
   },
   "file_extension": ".py",
   "mimetype": "text/x-python",
   "name": "python",
   "nbconvert_exporter": "python",
   "pygments_lexer": "ipython3",
   "version": "3.11.5"
  }
 },
 "nbformat": 4,
 "nbformat_minor": 2
}
